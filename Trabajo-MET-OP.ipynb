{
 "cells": [
  {
   "cell_type": "code",
   "execution_count": 1,
   "id": "1ef66f2b-c859-491e-92db-d2aa246a5fea",
   "metadata": {},
   "outputs": [],
   "source": [
    "### DEFINICION DE NUMERO PRIMO \n",
    "\n",
    "def es_primo(num):           #definimos el nombre de la funcion y su parametro \n",
    "    if num < 2:    \n",
    "        return False         # como todos los numeros primos son mayores que 2, le decimos directamente\n",
    "                             # a la funcion que de falso (o sea, que no es primo), cuando el numero es menor que 2\n",
    "    for i in range(2, num):  #usamos el for para iterar sobre los elementos de la función range, que en este caso va a\n",
    "                             #ser entre 2 y n-1 (porque a n no lo toma por la carcteristica de la funcion)\n",
    "        if num % i == 0:    #si el resultado de la division de alguno de los numero entre 2 y num -1 es igual(=) a cero (0)\n",
    "                            #quiere decir que el numero NO ES PRIMO \n",
    "            return False    #si se da el caso de que no sea primo pedimos que devuelva 4\n"
   ]
  },
  {
   "cell_type": "code",
   "execution_count": null,
   "id": "8b83252f-3f28-4510-8a14-b38442d33494",
   "metadata": {},
   "outputs": [],
   "source": [
    "#Función buscadora del enésimo primo \n",
    "\n",
    "def n_esimo_primo(n): #definimos la funcion para encontrar el enesimo numero primo \n",
    "                      #esto quiere decir, buscar el lugar que ocupa el numero \"n\" en la secuencia de numeros primos\n",
    "                      #por ej: si n = 11, n-esimo = 5\n",
    "    contador = 0  # esto resultado nos va a dar la cantidad de numeros encontrador\n",
    "    \n",
    "    while contador < n:  # hacemos que se inicie un bucle while hasta que llegue al valor n que hayamos asignado, inclusive ese valor. y ahi se corta\n",
    "            contador += 1  # Incrementa el contador de numros primos solo si el número es primo.\n",
    "        numero += 1  # aca hacemos que despues de verificar un numero, vaya hasta el siguiente\n",
    "    return numero - 1  # nos da el enesimo numero primo"
   ]
  }
 ],
 "metadata": {
  "kernelspec": {
   "display_name": "Python 3 (ipykernel)",
   "language": "python",
   "name": "python3"
  },
  "language_info": {
   "codemirror_mode": {
    "name": "ipython",
    "version": 3
   },
   "file_extension": ".py",
   "mimetype": "text/x-python",
   "name": "python",
   "nbconvert_exporter": "python",
   "pygments_lexer": "ipython3",
   "version": "3.11.5"
  }
 },
 "nbformat": 4,
 "nbformat_minor": 5
}
