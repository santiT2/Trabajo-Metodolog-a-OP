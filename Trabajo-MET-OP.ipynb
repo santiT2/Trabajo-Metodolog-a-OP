{
 "cells": [
  {
   "cell_type": "code",
   "execution_count": 1,
   "id": "1ef66f2b-c859-491e-92db-d2aa246a5fea",
   "metadata": {},
   "outputs": [],
   "source": [
    "### DEFINICION DE NUMERO PRIMO \n",
    "\n",
    "def es_primo(num):           #definimos el nombre de la funcion y su parametro \n",
    "    if num < 2:    \n",
    "        return False         # como todos los numeros primos son mayores que 2, le decimos directamente\n",
    "                             # a la funcion que de falso (o sea, que no es primo), cuando el numero es menor que 2\n",
    "    for i in range(2, num):  #usamos el for para iterar sobre los elementos de la función range, que en este caso va a\n",
    "                             #ser entre 2 y n-1 (porque a n no lo toma por la carcteristica de la funcion)\n",
    "        if num % i == 0:    #si el resultado de la division de alguno de los numero entre 2 y num -1 es igual(=) a cero (0)\n",
    "                            #quiere decir que el numero NO ES PRIMO \n",
    "            return False    #si se da el caso de que no sea primo pedimos que devuelva 4\n"
   ]
  },
  {
   "cell_type": "code",
   "execution_count": null,
   "id": "8b83252f-3f28-4510-8a14-b38442d33494",
   "metadata": {},
   "outputs": [],
   "source": []
  }
 ],
 "metadata": {
  "kernelspec": {
   "display_name": "Python 3 (ipykernel)",
   "language": "python",
   "name": "python3"
  },
  "language_info": {
   "codemirror_mode": {
    "name": "ipython",
    "version": 3
   },
   "file_extension": ".py",
   "mimetype": "text/x-python",
   "name": "python",
   "nbconvert_exporter": "python",
   "pygments_lexer": "ipython3",
   "version": "3.11.5"
  }
 },
 "nbformat": 4,
 "nbformat_minor": 5
}
