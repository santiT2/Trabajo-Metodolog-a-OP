{
 "cells": [
  {
   "cell_type": "code",
   "execution_count": 18,
   "id": "4d97f9e9-f6a9-4381-9c83-24b0b06fc3db",
   "metadata": {},
   "outputs": [
    {
     "name": "stdout",
     "output_type": "stream",
     "text": [
      "El 9-ésimo número primo es: 23\n"
     ]
    }
   ],
   "source": [
    "#FUNCIÓN FINAL BUSCADORA DEL ENESIMO NUMERO PRIMO\n",
    "\n",
    "def es_primo(num):\n",
    "    # Función que verifica si un número es primo\n",
    "    if num < 2:                                   #definimos el nombre de la funcion y su parametro \n",
    "        return False\n",
    "    for i in range(2, int(num**0.5) + 1):         # como todos los numeros primos son mayores que 2, le decimos directamente\n",
    "                                                  # a la funcion que dé falso (o sea, que no es primo), cuando el numero es menor que 2\n",
    "        if num % i == 0:                          #usamos el for para iterar sobre los elementos de la función range, que en este caso va a\n",
    "                                                  #ser entre 2 y n-1 (porque a n no lo toma por la carcteristica de la funcion)\n",
    "            return False                          #El bucle for itera sobre los números desde 2 hasta la raíz cuadrada de num redondeada hacia arriba. \n",
    "                                                  #Si un número tiene un factor (divisor) que no sea 1 o él mismo, ese factor debe estar en este rango.\n",
    "    return True\n",
    " \n",
    "def n_esimo_primo(n):\n",
    "    \"\"\"Encuentra el n-ésimo número primo.\"\"\"\n",
    "    contador = 0 # Cuenta cuántos primos se han encontrado\n",
    "    numero = 2   # Comienza con el primer número primo\n",
    "    while contador < n:     #Este bucle continúa hasta que el número de primos encontrados sea igual a n\n",
    "        if es_primo(numero):  #Llama a la función es_primo() para verificar si el número actual, numero, es primo.\n",
    "            contador += 1     #Si el numero es primo, incrementa el contador por 1\n",
    "        numero += 1         #Incrementa numero por 1 en cada iteración para verificar el siguiente número.\n",
    "    return numero - 1   # Restamos 1 porque el bucle agrega 1 de más después de encontrar el primo\n",
    "\n",
    "# Ejemplo de uso de la función\n",
    "n = 9                  # se define n como 9, se encuentra el 9º número primo usando n_esimo_primo(n), y luego\n",
    "                       # se imprime el resultado utilizando una f-string para formatear el mensaje final.\n",
    "enesimo = n_esimo_primo(n)\n",
    "print(f\"El {n}-ésimo número primo es: {enesimo}\")"
   ]
  },
  {
   "cell_type": "code",
   "execution_count": null,
   "id": "3337ba99-3940-42b6-9d09-a8a1a916133d",
   "metadata": {},
   "outputs": [],
   "source": []
  }
 ],
 "metadata": {
  "kernelspec": {
   "display_name": "Python 3 (ipykernel)",
   "language": "python",
   "name": "python3"
  },
  "language_info": {
   "codemirror_mode": {
    "name": "ipython",
    "version": 3
   },
   "file_extension": ".py",
   "mimetype": "text/x-python",
   "name": "python",
   "nbconvert_exporter": "python",
   "pygments_lexer": "ipython3",
   "version": "3.11.5"
  }
 },
 "nbformat": 4,
 "nbformat_minor": 5
}
